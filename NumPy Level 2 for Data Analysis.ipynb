{
 "cells": [
  {
   "cell_type": "code",
   "execution_count": 6,
   "metadata": {},
   "outputs": [
    {
     "data": {
      "text/plain": [
       "array([1, 3, 5, 7, 9])"
      ]
     },
     "execution_count": 6,
     "metadata": {},
     "output_type": "execute_result"
    }
   ],
   "source": [
    "#1.How to extract items that satisfy a given condition from 1D array?\n",
    "#Q. Extract all odd numbers from arr\n",
    "\n",
    "#Input:\n",
    "\n",
    "#arr = np.array([0, 1, 2, 3, 4, 5, 6, 7, 8, 9])\n",
    "import numpy as np\n",
    "arr = np.array([0, 1, 2, 3, 4, 5, 6, 7, 8, 9])\n",
    "arr[arr % 2 == 1]"
   ]
  },
  {
   "cell_type": "code",
   "execution_count": 7,
   "metadata": {},
   "outputs": [
    {
     "data": {
      "text/plain": [
       "array([ 0, -1,  2, -1,  4, -1,  6, -1,  8, -1])"
      ]
     },
     "execution_count": 7,
     "metadata": {},
     "output_type": "execute_result"
    }
   ],
   "source": [
    "#2.How to replace items that satisfy a condition with another value in numpy array?\n",
    "\n",
    "#Q. Replace all odd numbers in arr with -1\n",
    "\n",
    "#Input:\n",
    "import numpy as np\n",
    "arr = np.array([0, 1, 2, 3, 4, 5, 6, 7, 8, 9])\n",
    "arr[arr % 2 == 1] = -1\n",
    "arr"
   ]
  },
  {
   "cell_type": "code",
   "execution_count": 12,
   "metadata": {},
   "outputs": [
    {
     "name": "stdout",
     "output_type": "stream",
     "text": [
      "[0 1 2 3 4 5 6 7 8 9]\n"
     ]
    }
   ],
   "source": [
    "#3.How to replace items that satisfy a condition without affecting the original array?\n",
    "\n",
    "#Q. Replace all odd numbers in arr with -1 without changing arr\n",
    "\n",
    "#Input:\n",
    "\n",
    "#arr = np.array([0, 1, 2, 3, 4, 5, 6, 7, 8, 9])\n",
    "import numpy as np\n",
    "arr = np.arange(10)\n",
    "out = np.where(arr % 2 == 1, -1, arr)\n",
    "print(arr)"
   ]
  },
  {
   "cell_type": "code",
   "execution_count": 45,
   "metadata": {},
   "outputs": [
    {
     "data": {
      "text/plain": [
       "array([[0, 1, 2, 3, 4],\n",
       "       [5, 6, 7, 8, 9]])"
      ]
     },
     "execution_count": 45,
     "metadata": {},
     "output_type": "execute_result"
    }
   ],
   "source": [
    "#4.How to reshape an array?\n",
    "\n",
    "#Q. Convert a 1D array to a 2D array with 2 rows\n",
    "\n",
    "#Input:\n",
    "\n",
    "#np.arange(10)\n",
    "\n",
    "#> array([ 0, 1, 2, 3, 4, 5, 6, 7, 8, 9])\n",
    "import numpy as np\n",
    "arr = np.arange(10)\n",
    "arr.reshape(2, -1)"
   ]
  },
  {
   "cell_type": "code",
   "execution_count": 15,
   "metadata": {},
   "outputs": [
    {
     "data": {
      "text/plain": [
       "array([[0, 1, 2, 3, 4],\n",
       "       [5, 6, 7, 8, 9],\n",
       "       [1, 1, 1, 1, 1],\n",
       "       [1, 1, 1, 1, 1]])"
      ]
     },
     "execution_count": 15,
     "metadata": {},
     "output_type": "execute_result"
    }
   ],
   "source": [
    "#5.How to stack two arrays vertically?\n",
    "\n",
    "#Q. Stack arrays a and b vertically\n",
    "\n",
    "#Input\n",
    "\n",
    "#a = np.arange(10).reshape(2,-1)\n",
    "#b = np.repeat(1, 10).reshape(2,-1)\n",
    "import numpy as np\n",
    "a = np.arange(10).reshape(2,-1)\n",
    "b = np.repeat(1, 10).reshape(2,-1)\n",
    "np.concatenate([a, b], axis=0)"
   ]
  },
  {
   "cell_type": "code",
   "execution_count": 18,
   "metadata": {},
   "outputs": [
    {
     "data": {
      "text/plain": [
       "array([[0, 1, 2, 3, 4, 1, 1, 1, 1, 1],\n",
       "       [5, 6, 7, 8, 9, 1, 1, 1, 1, 1]])"
      ]
     },
     "execution_count": 18,
     "metadata": {},
     "output_type": "execute_result"
    }
   ],
   "source": [
    "#6.How to stack two arrays horizontally?\n",
    "\n",
    "#Q. Stack the arrays a and b horizontally.\n",
    "\n",
    "#Input\n",
    "\n",
    "#a = np.arange(10).reshape(2,-1)\n",
    "\n",
    "#b = np.repeat(1, 10).reshape(2,-1)\n",
    "import numpy as np\n",
    "a = np.arange(10).reshape(2,-1)\n",
    "b = np.repeat(1,10).reshape(2,-1)\n",
    "np.concatenate([a, b], axis=1)"
   ]
  },
  {
   "cell_type": "code",
   "execution_count": 19,
   "metadata": {},
   "outputs": [
    {
     "data": {
      "text/plain": [
       "array([1, 1, 1, 2, 2, 2, 3, 3, 3, 1, 2, 3, 1, 2, 3, 1, 2, 3])"
      ]
     },
     "execution_count": 19,
     "metadata": {},
     "output_type": "execute_result"
    }
   ],
   "source": [
    "#7.How to generate custom sequences in numpy without hardcoding?\n",
    "\n",
    "#Q. Create the following pattern without hardcoding. Use only numpy functions and the below input array a.\n",
    "\n",
    "#Input:\n",
    "#a = np.array([1,2,3])\n",
    "import numpy as np\n",
    "a = np.array([1,2,3])\n",
    "np.r_[np.repeat(a, 3), np.tile(a, 3)]"
   ]
  },
  {
   "cell_type": "code",
   "execution_count": 22,
   "metadata": {},
   "outputs": [
    {
     "data": {
      "text/plain": [
       "array([2, 4])"
      ]
     },
     "execution_count": 22,
     "metadata": {},
     "output_type": "execute_result"
    }
   ],
   "source": [
    "#8.How to get the common items between two python numpy arrays?\n",
    "\n",
    "#Q. Get the common items between a and b\n",
    "\n",
    "#Input:\n",
    "\n",
    "#a = np.array([1,2,3,2,3,4,3,4,5,6])\n",
    "#b = np.array([7,2,10,2,7,4,9,4,9,8])\n",
    "import numpy as np\n",
    "a = np.array([1,2,3,2,3,4,3,4,5,6])\n",
    "b = np.array([7,2,10,2,7,4,9,4,9,8])\n",
    "np.intersect1d(a,b)\n"
   ]
  },
  {
   "cell_type": "code",
   "execution_count": 44,
   "metadata": {},
   "outputs": [
    {
     "data": {
      "text/plain": [
       "array([1, 2, 3, 4])"
      ]
     },
     "execution_count": 44,
     "metadata": {},
     "output_type": "execute_result"
    }
   ],
   "source": [
    "#9.How to remove from one array those items that exist in another?\n",
    "\n",
    "#Q. From array a remove all items present in array b\n",
    "\n",
    "#Input:\n",
    "\n",
    "#a = np.array([1,2,3,4,5])\n",
    "#b = np.array([5,6,7,8,9])\n",
    "import numpy as np\n",
    "a = np.array([1,2,3,4,5])\n",
    "b = np.array([5,6,7,8,9])\n",
    "\n",
    "# From 'a' remove all of 'b'\n",
    "np.setdiff1d(a,b)"
   ]
  },
  {
   "cell_type": "code",
   "execution_count": 24,
   "metadata": {},
   "outputs": [
    {
     "data": {
      "text/plain": [
       "(array([1, 3, 5, 7], dtype=int64),)"
      ]
     },
     "execution_count": 24,
     "metadata": {},
     "output_type": "execute_result"
    }
   ],
   "source": [
    "#10.How to get the positions where elements of two arrays match?\n",
    "#Q. Get the positions where elements of a and b match\n",
    "\n",
    "#Input:\n",
    "\n",
    "#a = np.array([1,2,3,2,3,4,3,4,5,6])\n",
    "#b = np.array([7,2,10,2,7,4,9,4,9,8])\n",
    "import numpy as np\n",
    "a = np.array([1,2,3,2,3,4,3,4,5,6])\n",
    "b = np.array([7,2,10,2,7,4,9,4,9,8])\n",
    "np.where(a == b)"
   ]
  },
  {
   "cell_type": "code",
   "execution_count": 43,
   "metadata": {},
   "outputs": [
    {
     "data": {
      "text/plain": [
       "array([ 5,  6,  7,  8,  9, 10])"
      ]
     },
     "execution_count": 43,
     "metadata": {},
     "output_type": "execute_result"
    }
   ],
   "source": [
    "#11.How to extract all numbers between a given range from a numpy array?\n",
    "\n",
    "#Q. Get all items between 5 and 10 from a.\n",
    "\n",
    "#Input:\n",
    "import numpy as np\n",
    "a = np.array([2, 6, 1, 9, 10, 3, 27])\n",
    "a = np.arange(15)\n",
    "index = np.where((a >= 5) & (a <= 10))\n",
    "a[index]"
   ]
  },
  {
   "cell_type": "code",
   "execution_count": 42,
   "metadata": {},
   "outputs": [
    {
     "data": {
      "text/plain": [
       "array([6., 7., 9., ..., 9., 7., 5.])"
      ]
     },
     "execution_count": 42,
     "metadata": {},
     "output_type": "execute_result"
    }
   ],
   "source": [
    "#12.How to make a python function that handles scalars to work on numpy arrays?\n",
    "#Q. Convert the function maxx that works on two scalars, to work on two arrays.\n",
    "\n",
    "#Input:\n",
    "#def maxx(x, y):\n",
    " #   \"\"\"Get the maximum of two items\"\"\"\n",
    "  #  if x >= y:\n",
    "  #      return x\n",
    "  #  else:\n",
    "  #      return y\n",
    "\n",
    "#maxx(1, 5)\n",
    "#> 5\n",
    "import numpy as np\n",
    "def maxx(x, y):\n",
    "    \"\"\"Get the maximum of two items\"\"\"\n",
    "    if x >= y:\n",
    "        return x\n",
    "    else:\n",
    "        return y\n",
    "\n",
    "pair_max = np.vectorize(maxx, otypes=[float])\n",
    "\n",
    "a = np.array([5, 7, 9, 8, 6, 4, 5])\n",
    "b = np.array([6, 3, 4, 8, 9, 7, 1])\n",
    "\n",
    "pair_max(a, b)"
   ]
  },
  {
   "cell_type": "code",
   "execution_count": 41,
   "metadata": {},
   "outputs": [
    {
     "data": {
      "text/plain": [
       "array([[1, 0, 2],\n",
       "       [4, 3, 5],\n",
       "       [7, 6, 8]])"
      ]
     },
     "execution_count": 41,
     "metadata": {},
     "output_type": "execute_result"
    }
   ],
   "source": [
    "#13.How to swap two columns in a 2d numpy array?\n",
    "\n",
    "#Q. Swap columns 1 and 2 in the array arr.\n",
    "\n",
    "#arr = np.arange(9).reshape(3,3)\n",
    "#arr\n",
    "import numpy as np\n",
    "arr = np.arange(9).reshape(3,3)\n",
    "arr\n",
    "arr[:, [1,0,2]]"
   ]
  },
  {
   "cell_type": "code",
   "execution_count": 40,
   "metadata": {},
   "outputs": [
    {
     "data": {
      "text/plain": [
       "array([[3, 4, 5],\n",
       "       [0, 1, 2],\n",
       "       [6, 7, 8]])"
      ]
     },
     "execution_count": 40,
     "metadata": {},
     "output_type": "execute_result"
    }
   ],
   "source": [
    "#14.How to swap two rows in a 2d numpy array?\n",
    "#Q. Swap rows 1 and 2 in the array arr:\n",
    "\n",
    "#arr = np.arange(9).reshape(3,3)\n",
    "#arr\n",
    "import numpy as np\n",
    "arr = np.arange(9).reshape(3,3)\n",
    "\n",
    "arr[[1,0,2], :]"
   ]
  },
  {
   "cell_type": "code",
   "execution_count": 39,
   "metadata": {},
   "outputs": [
    {
     "data": {
      "text/plain": [
       "array([[6, 7, 8],\n",
       "       [3, 4, 5],\n",
       "       [0, 1, 2]])"
      ]
     },
     "execution_count": 39,
     "metadata": {},
     "output_type": "execute_result"
    }
   ],
   "source": [
    "#15.How to reverse the rows of a 2D array?\n",
    "\n",
    "#Q. Reverse the rows of a 2D array arr.\n",
    "\n",
    "# Input\n",
    "#arr = np.arange(9).reshape(3,3)\n",
    "import numpy as np \n",
    "arr = np.arange(9).reshape(3,3)\n",
    "arr[::-1]"
   ]
  },
  {
   "cell_type": "code",
   "execution_count": 30,
   "metadata": {},
   "outputs": [
    {
     "data": {
      "text/plain": [
       "array([[2, 1, 0],\n",
       "       [5, 4, 3],\n",
       "       [8, 7, 6]])"
      ]
     },
     "execution_count": 30,
     "metadata": {},
     "output_type": "execute_result"
    }
   ],
   "source": [
    "#16.How to reverse the columns of a 2D array?\n",
    "\n",
    "#Q. Reverse the columns of a 2D array arr.\n",
    "\n",
    "# Input\n",
    "#arr = np.arange(9).reshape(3,3)\n",
    "import numpy as np\n",
    "arr = np.arange(9).reshape(3,3)\n",
    "arr[:, ::-1]"
   ]
  },
  {
   "cell_type": "code",
   "execution_count": 38,
   "metadata": {},
   "outputs": [
    {
     "name": "stdout",
     "output_type": "stream",
     "text": [
      "[[5.632 9.699 8.642]\n",
      " [9.92  7.299 5.569]\n",
      " [8.179 6.533 7.647]\n",
      " [8.142 9.581 9.479]\n",
      " [6.386 8.44  9.405]]\n"
     ]
    }
   ],
   "source": [
    "#17.How to create a 2D array containing random floats between 5 and 10?\n",
    "\n",
    "#Q. Create a 2D array of shape 5x3 to contain random decimal numbers between 5 and 10.\n",
    "# Input\n",
    "import numpy as np\n",
    "arr = np.arange(9).reshape(3,3)\n",
    "rand_arr = np.random.randint(low=5, high=10, size=(5,3)) + np.random.random((5,3))\n",
    "print(rand_arr)"
   ]
  },
  {
   "cell_type": "code",
   "execution_count": 33,
   "metadata": {},
   "outputs": [
    {
     "data": {
      "text/plain": [
       "array([[0.654, 0.12 , 0.602],\n",
       "       [0.686, 0.75 , 0.782],\n",
       "       [0.307, 0.127, 0.532],\n",
       "       [0.016, 0.656, 0.576]])"
      ]
     },
     "execution_count": 33,
     "metadata": {},
     "output_type": "execute_result"
    }
   ],
   "source": [
    "#18.How to print only 3 decimal places in python numpy array?\n",
    "\n",
    "#Q. Print or show only 3 decimal places of the numpy array rand_arr.\n",
    "\n",
    "#Input:\n",
    "\n",
    "#rand_arr = np.random.random((5,3))\n",
    "import numpy as np\n",
    "rand_arr = np.random.random((5,3))\n",
    "\n",
    "# Create the random array\n",
    "rand_arr = np.random.random([5,3])\n",
    "\n",
    "# Limit to 3 decimal places\n",
    "np.set_printoptions(precision=3)\n",
    "rand_arr[:4]\n",
    "\n"
   ]
  },
  {
   "cell_type": "code",
   "execution_count": 37,
   "metadata": {},
   "outputs": [
    {
     "data": {
      "text/plain": [
       "array([[5.434e-04, 2.784e-04, 4.245e-04],\n",
       "       [8.448e-04, 4.719e-06, 1.216e-04],\n",
       "       [6.707e-04, 8.259e-04, 1.367e-04]])"
      ]
     },
     "execution_count": 37,
     "metadata": {},
     "output_type": "execute_result"
    }
   ],
   "source": [
    "#19.How to pretty print a numpy array by suppressing the scientific notation (like 1e10)?\n",
    "\n",
    "#Q. Pretty print rand_arr by suppressing the scientific notation (like 1e10)\n",
    "\n",
    "#Input:\n",
    "\n",
    "# Create the random array\n",
    "#np.random.seed(100)\n",
    "#rand_arr = np.random.random([3,3])/1e3\n",
    "#rand_arr\n",
    "\n",
    "#> array([[  5.434049e-04,   2.783694e-04,   4.245176e-04],\n",
    "#>        [  8.447761e-04,   4.718856e-06,   1.215691e-04],\n",
    "#>        [  6.707491e-04,   8.258528e-04,   1.367066e-04]]\n",
    "# Reset printoptions to default\n",
    "import numpy as np\n",
    "np.set_printoptions(suppress=False)\n",
    "\n",
    "# Create the random array\n",
    "import numpy as np\n",
    "np.random.seed(100)\n",
    "rand_arr = np.random.random([3,3])/1e3\n",
    "rand_arr"
   ]
  },
  {
   "cell_type": "code",
   "execution_count": 36,
   "metadata": {},
   "outputs": [
    {
     "data": {
      "text/plain": [
       "array([ 0,  1,  2, ..., 12, 13, 14])"
      ]
     },
     "execution_count": 36,
     "metadata": {},
     "output_type": "execute_result"
    }
   ],
   "source": [
    "#20.How to limit the number of items printed in output of numpy array?\n",
    "\n",
    "#Q. Limit the number of items printed in python numpy array a to a maximum of 6 elements.\n",
    "#Input:\n",
    "\n",
    "#a = np.arange(15)\n",
    "#> array([ 0,  1,  2,  3,  4,  5,  6,  7,  8,  9, 10, 11, 12, 13, 14])\n",
    "import numpy as np\n",
    "np.set_printoptions(threshold=6)\n",
    "a = np.arange(15)\n",
    "a"
   ]
  },
  {
   "cell_type": "code",
   "execution_count": null,
   "metadata": {},
   "outputs": [],
   "source": []
  }
 ],
 "metadata": {
  "kernelspec": {
   "display_name": "Python 3",
   "language": "python",
   "name": "python3"
  },
  "language_info": {
   "codemirror_mode": {
    "name": "ipython",
    "version": 3
   },
   "file_extension": ".py",
   "mimetype": "text/x-python",
   "name": "python",
   "nbconvert_exporter": "python",
   "pygments_lexer": "ipython3",
   "version": "3.8.5"
  }
 },
 "nbformat": 4,
 "nbformat_minor": 4
}
